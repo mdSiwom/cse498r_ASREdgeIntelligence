{
  "nbformat": 4,
  "nbformat_minor": 0,
  "metadata": {
    "colab": {
      "provenance": []
    },
    "kernelspec": {
      "name": "python3",
      "display_name": "Python 3"
    },
    "language_info": {
      "name": "python"
    }
  },
  "cells": [
    {
      "cell_type": "markdown",
      "source": [
        "#Loading testing data"
      ],
      "metadata": {
        "id": "RoM8yymMA2Qi"
      }
    },
    {
      "cell_type": "code",
      "source": [
        "!pip install -q git+https://github.com/openai/whisper.git\n",
        "!sudo apt update && sudo apt install -y ffmpeg"
      ],
      "metadata": {
        "colab": {
          "base_uri": "https://localhost:8080/"
        },
        "id": "YbDuor9jEqlT",
        "outputId": "9fe8768c-ad0b-42fd-ab45-dd18ead6dfb1"
      },
      "execution_count": null,
      "outputs": [
        {
          "output_type": "stream",
          "name": "stdout",
          "text": [
            "  Installing build dependencies ... \u001b[?25l\u001b[?25hdone\n",
            "  Getting requirements to build wheel ... \u001b[?25l\u001b[?25hdone\n",
            "  Preparing metadata (pyproject.toml) ... \u001b[?25l\u001b[?25hdone\n",
            "\u001b[2K   \u001b[90m━━━━━━━━━━━━━━━━━━━━━━━━━━━━━━━━━━━━━━━━\u001b[0m \u001b[32m363.4/363.4 MB\u001b[0m \u001b[31m4.5 MB/s\u001b[0m eta \u001b[36m0:00:00\u001b[0m\n",
            "\u001b[2K   \u001b[90m━━━━━━━━━━━━━━━━━━━━━━━━━━━━━━━━━━━━━━━━\u001b[0m \u001b[32m13.8/13.8 MB\u001b[0m \u001b[31m55.6 MB/s\u001b[0m eta \u001b[36m0:00:00\u001b[0m\n",
            "\u001b[2K   \u001b[90m━━━━━━━━━━━━━━━━━━━━━━━━━━━━━━━━━━━━━━━━\u001b[0m \u001b[32m24.6/24.6 MB\u001b[0m \u001b[31m45.0 MB/s\u001b[0m eta \u001b[36m0:00:00\u001b[0m\n",
            "\u001b[2K   \u001b[90m━━━━━━━━━━━━━━━━━━━━━━━━━━━━━━━━━━━━━━━━\u001b[0m \u001b[32m883.7/883.7 kB\u001b[0m \u001b[31m24.0 MB/s\u001b[0m eta \u001b[36m0:00:00\u001b[0m\n",
            "\u001b[2K   \u001b[90m━━━━━━━━━━━━━━━━━━━━━━━━━━━━━━━━━━━━━━━━\u001b[0m \u001b[32m664.8/664.8 MB\u001b[0m \u001b[31m2.6 MB/s\u001b[0m eta \u001b[36m0:00:00\u001b[0m\n",
            "\u001b[2K   \u001b[90m━━━━━━━━━━━━━━━━━━━━━━━━━━━━━━━━━━━━━━━━\u001b[0m \u001b[32m211.5/211.5 MB\u001b[0m \u001b[31m3.8 MB/s\u001b[0m eta \u001b[36m0:00:00\u001b[0m\n",
            "\u001b[2K   \u001b[90m━━━━━━━━━━━━━━━━━━━━━━━━━━━━━━━━━━━━━━━━\u001b[0m \u001b[32m56.3/56.3 MB\u001b[0m \u001b[31m9.2 MB/s\u001b[0m eta \u001b[36m0:00:00\u001b[0m\n",
            "\u001b[2K   \u001b[90m━━━━━━━━━━━━━━━━━━━━━━━━━━━━━━━━━━━━━━━━\u001b[0m \u001b[32m127.9/127.9 MB\u001b[0m \u001b[31m7.4 MB/s\u001b[0m eta \u001b[36m0:00:00\u001b[0m\n",
            "\u001b[2K   \u001b[90m━━━━━━━━━━━━━━━━━━━━━━━━━━━━━━━━━━━━━━━━\u001b[0m \u001b[32m207.5/207.5 MB\u001b[0m \u001b[31m6.4 MB/s\u001b[0m eta \u001b[36m0:00:00\u001b[0m\n",
            "\u001b[2K   \u001b[90m━━━━━━━━━━━━━━━━━━━━━━━━━━━━━━━━━━━━━━━━\u001b[0m \u001b[32m21.1/21.1 MB\u001b[0m \u001b[31m66.0 MB/s\u001b[0m eta \u001b[36m0:00:00\u001b[0m\n",
            "\u001b[?25h  Building wheel for openai-whisper (pyproject.toml) ... \u001b[?25l\u001b[?25hdone\n",
            "Get:1 https://developer.download.nvidia.com/compute/cuda/repos/ubuntu2204/x86_64  InRelease [1,581 B]\n",
            "Get:2 https://cloud.r-project.org/bin/linux/ubuntu jammy-cran40/ InRelease [3,632 B]\n",
            "Get:3 https://developer.download.nvidia.com/compute/cuda/repos/ubuntu2204/x86_64  Packages [1,776 kB]\n",
            "Get:4 http://security.ubuntu.com/ubuntu jammy-security InRelease [129 kB]\n",
            "Hit:5 http://archive.ubuntu.com/ubuntu jammy InRelease\n",
            "Get:6 http://archive.ubuntu.com/ubuntu jammy-updates InRelease [128 kB]\n",
            "Get:7 https://r2u.stat.illinois.edu/ubuntu jammy InRelease [6,555 B]\n",
            "Hit:8 https://ppa.launchpadcontent.net/deadsnakes/ppa/ubuntu jammy InRelease\n",
            "Hit:9 https://ppa.launchpadcontent.net/graphics-drivers/ppa/ubuntu jammy InRelease\n",
            "Get:10 https://r2u.stat.illinois.edu/ubuntu jammy/main amd64 Packages [2,750 kB]\n",
            "Hit:11 https://ppa.launchpadcontent.net/ubuntugis/ppa/ubuntu jammy InRelease\n",
            "Get:12 http://security.ubuntu.com/ubuntu jammy-security/main amd64 Packages [2,986 kB]\n",
            "Get:13 http://archive.ubuntu.com/ubuntu jammy-backports InRelease [127 kB]\n",
            "Get:14 http://archive.ubuntu.com/ubuntu jammy-updates/main amd64 Packages [3,296 kB]\n",
            "Get:15 http://security.ubuntu.com/ubuntu jammy-security/universe amd64 Packages [1,250 kB]\n",
            "Get:16 https://r2u.stat.illinois.edu/ubuntu jammy/main all Packages [9,037 kB]\n",
            "Get:17 http://archive.ubuntu.com/ubuntu jammy-updates/universe amd64 Packages [1,556 kB]\n",
            "Fetched 23.0 MB in 5s (4,987 kB/s)\n",
            "Reading package lists... Done\n",
            "Building dependency tree... Done\n",
            "Reading state information... Done\n",
            "35 packages can be upgraded. Run 'apt list --upgradable' to see them.\n",
            "\u001b[1;33mW: \u001b[0mSkipping acquire of configured file 'main/source/Sources' as repository 'https://r2u.stat.illinois.edu/ubuntu jammy InRelease' does not seem to provide it (sources.list entry misspelt?)\u001b[0m\n",
            "Reading package lists... Done\n",
            "Building dependency tree... Done\n",
            "Reading state information... Done\n",
            "ffmpeg is already the newest version (7:4.4.2-0ubuntu0.22.04.1).\n",
            "0 upgraded, 0 newly installed, 0 to remove and 35 not upgraded.\n"
          ]
        }
      ]
    },
    {
      "cell_type": "code",
      "source": [
        "!pip install -U openai-whisper"
      ],
      "metadata": {
        "id": "eSv2R2QwFcMq"
      },
      "execution_count": null,
      "outputs": []
    },
    {
      "cell_type": "code",
      "source": [
        "import whisper\n",
        "import torch"
      ],
      "metadata": {
        "id": "p9ecBj-ZEt7q"
      },
      "execution_count": null,
      "outputs": []
    },
    {
      "cell_type": "code",
      "source": [
        "model = whisper.load_model(\"base\")  # change to \"small\", \"medium\", etc. if needed"
      ],
      "metadata": {
        "colab": {
          "base_uri": "https://localhost:8080/"
        },
        "id": "eT0odiyPEweS",
        "outputId": "f8a7334b-7727-485c-ecaa-e4dd2a705e70"
      },
      "execution_count": null,
      "outputs": [
        {
          "output_type": "stream",
          "name": "stderr",
          "text": [
            "100%|███████████████████████████████████████| 139M/139M [00:01<00:00, 90.6MiB/s]\n"
          ]
        }
      ]
    },
    {
      "cell_type": "code",
      "source": [
        "from google.colab import files\n",
        "uploaded = files.upload()\n"
      ],
      "metadata": {
        "colab": {
          "base_uri": "https://localhost:8080/",
          "height": 73
        },
        "id": "mUoRFvXfEzBS",
        "outputId": "aecad49e-a6a4-426c-c801-fc11d13c1ac5"
      },
      "execution_count": null,
      "outputs": [
        {
          "output_type": "display_data",
          "data": {
            "text/plain": [
              "<IPython.core.display.HTML object>"
            ],
            "text/html": [
              "\n",
              "     <input type=\"file\" id=\"files-d16350d0-a1f9-482e-89ad-fc4c4c3422b8\" name=\"files[]\" multiple disabled\n",
              "        style=\"border:none\" />\n",
              "     <output id=\"result-d16350d0-a1f9-482e-89ad-fc4c4c3422b8\">\n",
              "      Upload widget is only available when the cell has been executed in the\n",
              "      current browser session. Please rerun this cell to enable.\n",
              "      </output>\n",
              "      <script>// Copyright 2017 Google LLC\n",
              "//\n",
              "// Licensed under the Apache License, Version 2.0 (the \"License\");\n",
              "// you may not use this file except in compliance with the License.\n",
              "// You may obtain a copy of the License at\n",
              "//\n",
              "//      http://www.apache.org/licenses/LICENSE-2.0\n",
              "//\n",
              "// Unless required by applicable law or agreed to in writing, software\n",
              "// distributed under the License is distributed on an \"AS IS\" BASIS,\n",
              "// WITHOUT WARRANTIES OR CONDITIONS OF ANY KIND, either express or implied.\n",
              "// See the License for the specific language governing permissions and\n",
              "// limitations under the License.\n",
              "\n",
              "/**\n",
              " * @fileoverview Helpers for google.colab Python module.\n",
              " */\n",
              "(function(scope) {\n",
              "function span(text, styleAttributes = {}) {\n",
              "  const element = document.createElement('span');\n",
              "  element.textContent = text;\n",
              "  for (const key of Object.keys(styleAttributes)) {\n",
              "    element.style[key] = styleAttributes[key];\n",
              "  }\n",
              "  return element;\n",
              "}\n",
              "\n",
              "// Max number of bytes which will be uploaded at a time.\n",
              "const MAX_PAYLOAD_SIZE = 100 * 1024;\n",
              "\n",
              "function _uploadFiles(inputId, outputId) {\n",
              "  const steps = uploadFilesStep(inputId, outputId);\n",
              "  const outputElement = document.getElementById(outputId);\n",
              "  // Cache steps on the outputElement to make it available for the next call\n",
              "  // to uploadFilesContinue from Python.\n",
              "  outputElement.steps = steps;\n",
              "\n",
              "  return _uploadFilesContinue(outputId);\n",
              "}\n",
              "\n",
              "// This is roughly an async generator (not supported in the browser yet),\n",
              "// where there are multiple asynchronous steps and the Python side is going\n",
              "// to poll for completion of each step.\n",
              "// This uses a Promise to block the python side on completion of each step,\n",
              "// then passes the result of the previous step as the input to the next step.\n",
              "function _uploadFilesContinue(outputId) {\n",
              "  const outputElement = document.getElementById(outputId);\n",
              "  const steps = outputElement.steps;\n",
              "\n",
              "  const next = steps.next(outputElement.lastPromiseValue);\n",
              "  return Promise.resolve(next.value.promise).then((value) => {\n",
              "    // Cache the last promise value to make it available to the next\n",
              "    // step of the generator.\n",
              "    outputElement.lastPromiseValue = value;\n",
              "    return next.value.response;\n",
              "  });\n",
              "}\n",
              "\n",
              "/**\n",
              " * Generator function which is called between each async step of the upload\n",
              " * process.\n",
              " * @param {string} inputId Element ID of the input file picker element.\n",
              " * @param {string} outputId Element ID of the output display.\n",
              " * @return {!Iterable<!Object>} Iterable of next steps.\n",
              " */\n",
              "function* uploadFilesStep(inputId, outputId) {\n",
              "  const inputElement = document.getElementById(inputId);\n",
              "  inputElement.disabled = false;\n",
              "\n",
              "  const outputElement = document.getElementById(outputId);\n",
              "  outputElement.innerHTML = '';\n",
              "\n",
              "  const pickedPromise = new Promise((resolve) => {\n",
              "    inputElement.addEventListener('change', (e) => {\n",
              "      resolve(e.target.files);\n",
              "    });\n",
              "  });\n",
              "\n",
              "  const cancel = document.createElement('button');\n",
              "  inputElement.parentElement.appendChild(cancel);\n",
              "  cancel.textContent = 'Cancel upload';\n",
              "  const cancelPromise = new Promise((resolve) => {\n",
              "    cancel.onclick = () => {\n",
              "      resolve(null);\n",
              "    };\n",
              "  });\n",
              "\n",
              "  // Wait for the user to pick the files.\n",
              "  const files = yield {\n",
              "    promise: Promise.race([pickedPromise, cancelPromise]),\n",
              "    response: {\n",
              "      action: 'starting',\n",
              "    }\n",
              "  };\n",
              "\n",
              "  cancel.remove();\n",
              "\n",
              "  // Disable the input element since further picks are not allowed.\n",
              "  inputElement.disabled = true;\n",
              "\n",
              "  if (!files) {\n",
              "    return {\n",
              "      response: {\n",
              "        action: 'complete',\n",
              "      }\n",
              "    };\n",
              "  }\n",
              "\n",
              "  for (const file of files) {\n",
              "    const li = document.createElement('li');\n",
              "    li.append(span(file.name, {fontWeight: 'bold'}));\n",
              "    li.append(span(\n",
              "        `(${file.type || 'n/a'}) - ${file.size} bytes, ` +\n",
              "        `last modified: ${\n",
              "            file.lastModifiedDate ? file.lastModifiedDate.toLocaleDateString() :\n",
              "                                    'n/a'} - `));\n",
              "    const percent = span('0% done');\n",
              "    li.appendChild(percent);\n",
              "\n",
              "    outputElement.appendChild(li);\n",
              "\n",
              "    const fileDataPromise = new Promise((resolve) => {\n",
              "      const reader = new FileReader();\n",
              "      reader.onload = (e) => {\n",
              "        resolve(e.target.result);\n",
              "      };\n",
              "      reader.readAsArrayBuffer(file);\n",
              "    });\n",
              "    // Wait for the data to be ready.\n",
              "    let fileData = yield {\n",
              "      promise: fileDataPromise,\n",
              "      response: {\n",
              "        action: 'continue',\n",
              "      }\n",
              "    };\n",
              "\n",
              "    // Use a chunked sending to avoid message size limits. See b/62115660.\n",
              "    let position = 0;\n",
              "    do {\n",
              "      const length = Math.min(fileData.byteLength - position, MAX_PAYLOAD_SIZE);\n",
              "      const chunk = new Uint8Array(fileData, position, length);\n",
              "      position += length;\n",
              "\n",
              "      const base64 = btoa(String.fromCharCode.apply(null, chunk));\n",
              "      yield {\n",
              "        response: {\n",
              "          action: 'append',\n",
              "          file: file.name,\n",
              "          data: base64,\n",
              "        },\n",
              "      };\n",
              "\n",
              "      let percentDone = fileData.byteLength === 0 ?\n",
              "          100 :\n",
              "          Math.round((position / fileData.byteLength) * 100);\n",
              "      percent.textContent = `${percentDone}% done`;\n",
              "\n",
              "    } while (position < fileData.byteLength);\n",
              "  }\n",
              "\n",
              "  // All done.\n",
              "  yield {\n",
              "    response: {\n",
              "      action: 'complete',\n",
              "    }\n",
              "  };\n",
              "}\n",
              "\n",
              "scope.google = scope.google || {};\n",
              "scope.google.colab = scope.google.colab || {};\n",
              "scope.google.colab._files = {\n",
              "  _uploadFiles,\n",
              "  _uploadFilesContinue,\n",
              "};\n",
              "})(self);\n",
              "</script> "
            ]
          },
          "metadata": {}
        },
        {
          "output_type": "stream",
          "name": "stdout",
          "text": [
            "Saving 30-Second Elevator Pitch (Watch this).mp3 to 30-Second Elevator Pitch (Watch this).mp3\n"
          ]
        }
      ]
    },
    {
      "cell_type": "code",
      "source": [
        "import os\n",
        "\n",
        "audio_path = list(uploaded.keys())[0]\n",
        "print(\"Audio file:\", audio_path)\n"
      ],
      "metadata": {
        "colab": {
          "base_uri": "https://localhost:8080/"
        },
        "id": "6VOec-rtE3UD",
        "outputId": "40c38796-5ce4-4c23-f885-62617f7dab85"
      },
      "execution_count": null,
      "outputs": [
        {
          "output_type": "stream",
          "name": "stdout",
          "text": [
            "Audio file: 30-Second Elevator Pitch (Watch this).mp3\n"
          ]
        }
      ]
    },
    {
      "cell_type": "code",
      "source": [
        "#Convert Audio to Compatible Format\n",
        "converted_path = \"converted.wav\"\n",
        "\n",
        "!ffmpeg -i \"{audio_path}\" -ar 16000 -ac 1 -c:a pcm_s16le \"{converted_path}\"\n"
      ],
      "metadata": {
        "colab": {
          "base_uri": "https://localhost:8080/"
        },
        "id": "jRVX20gnE7tK",
        "outputId": "2a114aeb-a478-4c52-9894-4eea90ede376"
      },
      "execution_count": null,
      "outputs": [
        {
          "output_type": "stream",
          "name": "stdout",
          "text": [
            "ffmpeg version 4.4.2-0ubuntu0.22.04.1 Copyright (c) 2000-2021 the FFmpeg developers\n",
            "  built with gcc 11 (Ubuntu 11.2.0-19ubuntu1)\n",
            "  configuration: --prefix=/usr --extra-version=0ubuntu0.22.04.1 --toolchain=hardened --libdir=/usr/lib/x86_64-linux-gnu --incdir=/usr/include/x86_64-linux-gnu --arch=amd64 --enable-gpl --disable-stripping --enable-gnutls --enable-ladspa --enable-libaom --enable-libass --enable-libbluray --enable-libbs2b --enable-libcaca --enable-libcdio --enable-libcodec2 --enable-libdav1d --enable-libflite --enable-libfontconfig --enable-libfreetype --enable-libfribidi --enable-libgme --enable-libgsm --enable-libjack --enable-libmp3lame --enable-libmysofa --enable-libopenjpeg --enable-libopenmpt --enable-libopus --enable-libpulse --enable-librabbitmq --enable-librubberband --enable-libshine --enable-libsnappy --enable-libsoxr --enable-libspeex --enable-libsrt --enable-libssh --enable-libtheora --enable-libtwolame --enable-libvidstab --enable-libvorbis --enable-libvpx --enable-libwebp --enable-libx265 --enable-libxml2 --enable-libxvid --enable-libzimg --enable-libzmq --enable-libzvbi --enable-lv2 --enable-omx --enable-openal --enable-opencl --enable-opengl --enable-sdl2 --enable-pocketsphinx --enable-librsvg --enable-libmfx --enable-libdc1394 --enable-libdrm --enable-libiec61883 --enable-chromaprint --enable-frei0r --enable-libx264 --enable-shared\n",
            "  libavutil      56. 70.100 / 56. 70.100\n",
            "  libavcodec     58.134.100 / 58.134.100\n",
            "  libavformat    58. 76.100 / 58. 76.100\n",
            "  libavdevice    58. 13.100 / 58. 13.100\n",
            "  libavfilter     7.110.100 /  7.110.100\n",
            "  libswscale      5.  9.100 /  5.  9.100\n",
            "  libswresample   3.  9.100 /  3.  9.100\n",
            "  libpostproc    55.  9.100 / 55.  9.100\n",
            "Input #0, mp3, from '30-Second Elevator Pitch (Watch this).mp3':\n",
            "  Metadata:\n",
            "    artist          : Sam Demma\n",
            "    title           : 30-Second Elevator Pitch (Watch this)\n",
            "    encoder         : Lavf58.76.100\n",
            "    description     : Watch this if you need a quick pep-talk.\n",
            "    synopsis        : Watch this if you need a quick pep-talk.\n",
            "    purl            : https://www.youtube.com/watch?v=ZNCChnB5Hb4\n",
            "    comment         : https://www.youtube.com/watch?v=ZNCChnB5Hb4\n",
            "    date            : 2023\n",
            "  Duration: 00:00:19.99, start: 0.023021, bitrate: 293 kb/s\n",
            "  Stream #0:0: Audio: mp3, 48000 Hz, stereo, fltp, 135 kb/s\n",
            "    Metadata:\n",
            "      encoder         : Lavc58.13\n",
            "  Stream #0:1: Video: png, rgb24(pc), 1280x720, 90k tbr, 90k tbn, 90k tbc (attached pic)\n",
            "    Metadata:\n",
            "      title           : \"Album cover\"\n",
            "      comment         : Cover (front)\n",
            "Stream mapping:\n",
            "  Stream #0:0 -> #0:0 (mp3 (mp3float) -> pcm_s16le (native))\n",
            "Press [q] to stop, [?] for help\n",
            "Output #0, wav, to 'converted.wav':\n",
            "  Metadata:\n",
            "    IART            : Sam Demma\n",
            "    INAM            : 30-Second Elevator Pitch (Watch this)\n",
            "    ICRD            : 2023\n",
            "    description     : Watch this if you need a quick pep-talk.\n",
            "    synopsis        : Watch this if you need a quick pep-talk.\n",
            "    purl            : https://www.youtube.com/watch?v=ZNCChnB5Hb4\n",
            "    ICMT            : https://www.youtube.com/watch?v=ZNCChnB5Hb4\n",
            "    ISFT            : Lavf58.76.100\n",
            "  Stream #0:0: Audio: pcm_s16le ([1][0][0][0] / 0x0001), 16000 Hz, mono, s16, 256 kb/s\n",
            "    Metadata:\n",
            "      encoder         : Lavc58.134.100 pcm_s16le\n",
            "size=     624kB time=00:00:19.94 bitrate= 256.1kbits/s speed= 335x    \n",
            "video:0kB audio:623kB subtitle:0kB other streams:0kB global headers:0kB muxing overhead: 0.032588%\n"
          ]
        }
      ]
    },
    {
      "cell_type": "code",
      "source": [
        "result = model.transcribe(converted_path)\n",
        "print(\"Transcription:\\n\", result[\"text\"])\n"
      ],
      "metadata": {
        "colab": {
          "base_uri": "https://localhost:8080/"
        },
        "id": "6fCZBI41FDei",
        "outputId": "b4a60fac-4dbe-4156-ce47-6030be9cb154"
      },
      "execution_count": null,
      "outputs": [
        {
          "output_type": "stream",
          "name": "stderr",
          "text": [
            "/usr/local/lib/python3.11/dist-packages/whisper/transcribe.py:132: UserWarning: FP16 is not supported on CPU; using FP32 instead\n",
            "  warnings.warn(\"FP16 is not supported on CPU; using FP32 instead\")\n"
          ]
        },
        {
          "output_type": "stream",
          "name": "stdout",
          "text": [
            "Transcription:\n",
            "  No, 30 second elevator pitch. What if you stop caring about what everyone else thought about you? How would your life change? How would you show up differently? If you valued your opinion more than you valued the opinions other people placed on your shoulders. It's time to empty your backpack. We're here. Let's go.\n"
          ]
        }
      ]
    },
    {
      "cell_type": "markdown",
      "source": [
        "#ONNX Conversion"
      ],
      "metadata": {
        "id": "3lX0B9hGA9Um"
      }
    },
    {
      "cell_type": "code",
      "source": [
        "# Install Python packages\n",
        "!pip install -U openai-whisper onnx onnxruntime onnxruntime-tools \"optimum[onnxruntime]\" soundfile --quiet\n"
      ],
      "metadata": {
        "colab": {
          "base_uri": "https://localhost:8080/"
        },
        "id": "cbvVgG2DsjIi",
        "outputId": "0356dc3b-fb2a-47d6-f5a3-1267a2cfcb3d",
        "collapsed": true
      },
      "execution_count": null,
      "outputs": [
        {
          "output_type": "stream",
          "name": "stdout",
          "text": [
            "\u001b[2K   \u001b[90m━━━━━━━━━━━━━━━━━━━━━━━━━━━━━━━━━━━━━━━━\u001b[0m \u001b[32m17.6/17.6 MB\u001b[0m \u001b[31m76.7 MB/s\u001b[0m eta \u001b[36m0:00:00\u001b[0m\n",
            "\u001b[2K   \u001b[90m━━━━━━━━━━━━━━━━━━━━━━━━━━━━━━━━━━━━━━━━\u001b[0m \u001b[32m16.4/16.4 MB\u001b[0m \u001b[31m77.4 MB/s\u001b[0m eta \u001b[36m0:00:00\u001b[0m\n",
            "\u001b[2K   \u001b[90m━━━━━━━━━━━━━━━━━━━━━━━━━━━━━━━━━━━━━━━━\u001b[0m \u001b[32m212.7/212.7 kB\u001b[0m \u001b[31m13.5 MB/s\u001b[0m eta \u001b[36m0:00:00\u001b[0m\n",
            "\u001b[2K   \u001b[90m━━━━━━━━━━━━━━━━━━━━━━━━━━━━━━━━━━━━━━━━\u001b[0m \u001b[32m46.0/46.0 kB\u001b[0m \u001b[31m2.7 MB/s\u001b[0m eta \u001b[36m0:00:00\u001b[0m\n",
            "\u001b[2K   \u001b[90m━━━━━━━━━━━━━━━━━━━━━━━━━━━━━━━━━━━━━━━━\u001b[0m \u001b[32m424.6/424.6 kB\u001b[0m \u001b[31m24.3 MB/s\u001b[0m eta \u001b[36m0:00:00\u001b[0m\n",
            "\u001b[2K   \u001b[90m━━━━━━━━━━━━━━━━━━━━━━━━━━━━━━━━━━━━━━━━\u001b[0m \u001b[32m55.5/55.5 kB\u001b[0m \u001b[31m3.5 MB/s\u001b[0m eta \u001b[36m0:00:00\u001b[0m\n",
            "\u001b[2K   \u001b[90m━━━━━━━━━━━━━━━━━━━━━━━━━━━━━━━━━━━━━━━━\u001b[0m \u001b[32m86.8/86.8 kB\u001b[0m \u001b[31m5.7 MB/s\u001b[0m eta \u001b[36m0:00:00\u001b[0m\n",
            "\u001b[?25h"
          ]
        }
      ]
    },
    {
      "cell_type": "code",
      "execution_count": null,
      "metadata": {
        "colab": {
          "base_uri": "https://localhost:8080/"
        },
        "id": "6Ewp0FcJrKWJ",
        "outputId": "d196ee72-0e3a-4928-e4b7-8965cb01d5e5"
      },
      "outputs": [
        {
          "output_type": "stream",
          "name": "stderr",
          "text": [
            "100%|███████████████████████████████████████| 461M/461M [00:07<00:00, 62.6MiB/s]\n"
          ]
        },
        {
          "output_type": "stream",
          "name": "stdout",
          "text": [
            "240.582912 M parameters\n"
          ]
        }
      ],
      "source": [
        "import whisper, torch\n",
        "\n",
        "model = whisper.load_model(\"small\")      # change to \"tiny\" / \"base\" if needed\n",
        "print(sum(p.numel() for p in model.parameters())/1e6, \"M parameters\")"
      ]
    },
    {
      "cell_type": "code",
      "source": [
        "import onnx\n",
        "\n",
        "# ── 1. Load Whisper-small ──────────────────────────────────────────────────────\n",
        "model = whisper.load_model(\"small\").eval()      # or \"tiny\" / \"base\"\n",
        "\n",
        "# 1) Disable SDPA (the critical line) ───────────────────────\n",
        "from whisper.model import MultiHeadAttention\n",
        "MultiHeadAttention.use_sdpa = False\n",
        "\n",
        "# ── 2. Wrapper modules ─────────────────────────────────────────────────────────\n",
        "class Encoder(torch.nn.Module):\n",
        "    def __init__(self, w):\n",
        "        super().__init__();  self.enc = w.encoder\n",
        "    def forward(self, mel):                   # ← encoder needs ONLY the Mel\n",
        "        return self.enc(mel)\n",
        "\n",
        "class Decoder(torch.nn.Module):\n",
        "    def __init__(self, w):\n",
        "        super().__init__();  self.dec = w.decoder\n",
        "    def forward(self, tokens, enc_out):       # ← decoder uses tokens + enc_out\n",
        "        return self.dec(tokens, enc_out)\n",
        "\n",
        "enc = Encoder(model).eval()\n",
        "dec = Decoder(model).eval()\n",
        "\n",
        "# ── 3. Export ENCODER ──────────────────────────────────────────────────────────\n",
        "mel_dummy = torch.randn(1, 80, 3000)           # (batch, n_mels, n_frames)\n",
        "torch.onnx.export(\n",
        "    enc, mel_dummy, \"encoder.onnx\",\n",
        "    input_names  = [\"mel\"],\n",
        "    output_names = [\"enc_out\"],\n",
        "    dynamic_axes = {\"mel\": {0: \"batch\", 2: \"frames\"}},\n",
        "    opset_version = 17\n",
        ")\n",
        "\n",
        "# ── 4. Export DECODER ──────────────────────────────────────────────────────────\n",
        "SOT_ID = 50258                                 # start-of-transcript token\n",
        "tok_dummy  = torch.tensor([[SOT_ID]])          # (batch, seq_len=1)\n",
        "enc_dummy  = torch.randn(1, 1500, 768)         # (batch, frames/2, d_model)\n",
        "\n",
        "torch.onnx.export(\n",
        "    dec, (tok_dummy, enc_dummy), \"decoder.onnx\",\n",
        "    input_names  = [\"tokens\", \"enc_out\"],\n",
        "    output_names = [\"logits\"],\n",
        "    dynamic_axes = {\n",
        "        \"tokens\":  {0: \"batch\", 1: \"seq\"},\n",
        "        \"enc_out\": {0: \"batch\", 1: \"frames\"}\n",
        "    },\n",
        "    opset_version = 17\n",
        ")\n",
        "\n",
        "# ── 5. Quick sanity check ──────────────────────────────────────────────────────\n",
        "onnx.checker.check_model(onnx.load(\"encoder.onnx\"))\n",
        "onnx.checker.check_model(onnx.load(\"decoder.onnx\"))\n",
        "print(\"✅  Encoder & decoder exported without errors!\")\n"
      ],
      "metadata": {
        "colab": {
          "base_uri": "https://localhost:8080/"
        },
        "id": "rUDRVJbjtQeb",
        "outputId": "4b58919b-5c8f-4bf4-cee7-207fe5c8bdc3"
      },
      "execution_count": null,
      "outputs": [
        {
          "output_type": "stream",
          "name": "stderr",
          "text": [
            "/usr/local/lib/python3.11/dist-packages/whisper/model.py:197: TracerWarning: Converting a tensor to a Python boolean might cause the trace to be incorrect. We can't record the data flow of Python values, so this value will be treated as a constant in the future. This means that the trace might not generalize to other inputs!\n",
            "  assert x.shape[1:] == self.positional_embedding.shape, \"incorrect audio shape\"\n"
          ]
        },
        {
          "output_type": "stream",
          "name": "stdout",
          "text": [
            "✅  Encoder & decoder exported without errors!\n"
          ]
        }
      ]
    },
    {
      "cell_type": "markdown",
      "source": [
        "#Check encoder and decoder"
      ],
      "metadata": {
        "id": "erMZ9KvCvmfZ"
      }
    },
    {
      "cell_type": "code",
      "source": [
        "# 1 Use onnx.checker (structural validity)\n",
        "import onnx\n",
        "onnx.checker.check_model(onnx.load(\"encoder.onnx\"))\n",
        "onnx.checker.check_model(onnx.load(\"decoder.onnx\"))\n",
        "print(\"✔ Graphs pass ONNX structural checks\")\n"
      ],
      "metadata": {
        "colab": {
          "base_uri": "https://localhost:8080/"
        },
        "id": "XyFShhDtvpHn",
        "outputId": "3003dc60-55fe-4ab4-ea5f-4c3ed203e892"
      },
      "execution_count": null,
      "outputs": [
        {
          "output_type": "stream",
          "name": "stdout",
          "text": [
            "✔ Graphs pass ONNX structural checks\n"
          ]
        }
      ]
    },
    {
      "cell_type": "code",
      "source": [
        "# 2 Run a shape-only smoke test with ONNX Runtime\n",
        "import onnxruntime as ort\n",
        "import numpy as np\n",
        "\n",
        "# --- create sessions ---\n",
        "enc_sess = ort.InferenceSession(\"encoder.onnx\", providers=[\"CPUExecutionProvider\"])\n",
        "dec_sess = ort.InferenceSession(\"decoder.onnx\", providers=[\"CPUExecutionProvider\"])\n",
        "\n",
        "# --- dummy inputs ---\n",
        "mel     = np.random.randn(1, 80, 3000).astype(np.float32)   # (B, 80, T)\n",
        "enc_out = enc_sess.run(None, {\"mel\": mel})[0]               # (B, T/2, 768)\n",
        "\n",
        "tokens  = np.array([[50258]], dtype=np.int64)               # (B, 1)\n",
        "logits  = dec_sess.run(None, {\"tokens\": tokens, \"enc_out\": enc_out})[0]\n",
        "\n",
        "print(\"encoder output →\", enc_out.shape)\n",
        "print(\"decoder logits →\", logits.shape)      # (B, 1, vocab=51865)\n"
      ],
      "metadata": {
        "colab": {
          "base_uri": "https://localhost:8080/"
        },
        "id": "19it8pmavwVa",
        "outputId": "7fe44188-1e7d-48db-f274-4fb7cba2e834"
      },
      "execution_count": null,
      "outputs": [
        {
          "output_type": "stream",
          "name": "stdout",
          "text": [
            "encoder output → (1, 1500, 768)\n",
            "decoder logits → (1, 1, 51865)\n"
          ]
        }
      ]
    },
    {
      "cell_type": "code",
      "source": [
        "import whisper, torch\n",
        "import soundfile as sf\n",
        "import numpy as np\n",
        "from whisper.audio import log_mel_spectrogram, pad_or_trim"
      ],
      "metadata": {
        "id": "0m8GVOP6HfvR"
      },
      "execution_count": null,
      "outputs": []
    },
    {
      "cell_type": "code",
      "source": [
        "# --- load same Whisper-small in PyTorch ---\n",
        "pt_model = whisper.load_model(\"small\").eval()"
      ],
      "metadata": {
        "id": "Zcvsjfr2HiMX"
      },
      "execution_count": null,
      "outputs": []
    },
    {
      "cell_type": "code",
      "source": [
        "# 3 Compare numerical parity with the PyTorch model\n",
        "\n",
        "# — read raw audio —\n",
        "wav, sr = sf.read(\"converted.wav\")\n",
        "assert sr == 16000, f\"Expected 16 kHz, got {sr}\"\n",
        "\n",
        "# — if stereo, to mono —\n",
        "if wav.ndim > 1:\n",
        "    wav = wav.mean(axis=1)\n",
        "\n",
        "# — convert numpy → torch tensor, pad/trim to 30 s —\n",
        "audio = torch.from_numpy(wav.astype(np.float32))\n",
        "audio = pad_or_trim(audio)         # now audio.shape == [16000*30]\n",
        "\n",
        "# — compute mel spectrogram of the fixed‑length audio —\n",
        "mel = log_mel_spectrogram(audio)   # mel.shape == [80, 3000]\n",
        "\n",
        "# --- PyTorch reference ---\n",
        "with torch.no_grad():\n",
        "    enc_out_pt = pt_model.encoder(mel.unsqueeze(0))\n",
        "    sot = torch.tensor([[50258]])\n",
        "    logits_pt  = pt_model.decoder(sot, enc_out_pt).cpu().numpy()\n",
        "\n",
        "# --- ONNX inference ---\n",
        "enc_out_onnx = enc_sess.run(None, {\"mel\": mel.unsqueeze(0).numpy()})[0]\n",
        "logits_onnx  = dec_sess.run(None, {\"tokens\": sot.numpy(), \"enc_out\": enc_out_onnx})[0]\n",
        "\n",
        "# --- compare ---\n",
        "import numpy as np\n",
        "diff = np.max(np.abs(logits_pt - logits_onnx))\n",
        "print(f\"Max abs diff = {diff:.5f}\")\n"
      ],
      "metadata": {
        "colab": {
          "base_uri": "https://localhost:8080/"
        },
        "id": "n_X72r4BwOtd",
        "outputId": "f2b83cd1-340f-49ad-afd0-d927c9615c57"
      },
      "execution_count": null,
      "outputs": [
        {
          "output_type": "stream",
          "name": "stdout",
          "text": [
            "Max abs diff = 0.00002\n"
          ]
        }
      ]
    }
  ]
}